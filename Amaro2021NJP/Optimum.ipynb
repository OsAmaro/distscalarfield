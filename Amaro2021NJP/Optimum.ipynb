{
 "cells": [
  {
   "cell_type": "markdown",
   "metadata": {},
   "source": [
    "# $W_{0,\\mathrm{opt}}$"
   ]
  },
  {
   "cell_type": "code",
   "execution_count": 2,
   "metadata": {},
   "outputs": [],
   "source": [
    "# import API\n",
    "import pwpp\n",
    "from pwpp import *\n",
    "import pickle\n",
    "filename='Optimum'"
   ]
  },
  {
   "cell_type": "code",
   "execution_count": null,
   "metadata": {},
   "outputs": [],
   "source": [
    "# load\n",
    "infile = open(filename,'rb')\n",
    "W0lst, NpW0_s, Np_smpl_s, Elst, W0opt_th = pickle.load(infile)\n",
    "infile.close()"
   ]
  },
  {
   "cell_type": "code",
   "execution_count": 21,
   "metadata": {},
   "outputs": [],
   "source": [
    "# parameters\n",
    "# laser\n",
    "lbd = 0.8; #[\\mu m]\n",
    "tau = 150; #[fs] 35\n",
    "w0 = 2*pi*c/(lbd*1e-6)*hbar/e*1e-9; #[GeV]\n",
    "n = tau*c/(lbd*1e-6)*1e-15; #[]\n",
    "W0lst = np.linspace(2,10,50); #[\\mu m] 50\n",
    "# beam\n",
    "E0 = 10; #[GeV]\n",
    "g0 = E0/m; #[]\n",
    "sigmax = 24.4; #[\\mu m]\n",
    "sigmay = 29.6; #[\\mu m]\n",
    "R = (sigmax+sigmay)/2*sqrt(2); #[\\mu m]\n",
    "L = 200; #[\\mu m]\n",
    "nb = 1e16; #[cm^-3]\n",
    "nb = nb * 1e-12; #[\\mu m^-3]\n",
    "Nb = nb*(pi*R**2*L); #[]"
   ]
  },
  {
   "cell_type": "markdown",
   "metadata": {},
   "source": [
    "# $N_+(W_0)$"
   ]
  },
  {
   "cell_type": "code",
   "execution_count": null,
   "metadata": {},
   "outputs": [],
   "source": [
    "E = 1000; #[J] energy\n",
    "a0max = sqrt(E/tau/(2.149e-5))*(lbd/min(W0lst)); #[]\n",
    "# Interpolate N+\n",
    "amin = 1\n",
    "a0int = np.linspace(amin,a0max,200); #[]\n",
    "Npint = np.array([Np(g0, a, w0, n)[0] for a in a0int])\n",
    "Npinterp1d = interpolate.interp1d(a0int, Npint)\n",
    "\n",
    "# analytical distribution\n",
    "def dNda(a,a0,W0):\n",
    "    \"\"\"theory\"\"\"\n",
    "    zR = pi*W0**2/lbd; #[\\mu m]\n",
    "    az = a0/sqrt(1+(L/4/zR)**2)\n",
    "    return np.piecewise(a, [a > az, a <= az], [lambda a: 4*pi*nb*W0**2*zR/a * 1/3/a * sqrt(a0**2-a**2) * ((a0/a)**2+2),\n",
    "                                               lambda a: 4*pi*nb*W0**2*zR/a * L/4/zR * (1+(L/4/zR)**2/3) ])"
   ]
  },
  {
   "cell_type": "code",
   "execution_count": 22,
   "metadata": {},
   "outputs": [],
   "source": [
    "# sampling\n",
    "NpW0_s = np.zeros(len(W0lst));\n",
    "Np_smpl_s = np.zeros(len(W0lst));\n",
    "Nsmpl = int(1e6); #[]\n",
    "zmax = +L/4 ; #[\\mu m]\n",
    "zmin = zmax-L/2; #[\\mu m]\n",
    "# coordinate data\n",
    "zdist = (zmax-zmin)*rng.random(Nsmpl) + zmin; #[\\mu m]\n",
    "xdist = sigmax*rng.standard_normal(Nsmpl) #[\\mu m]\n",
    "ydist = sigmay*rng.standard_normal(Nsmpl) #[\\mu m]\n",
    "\n",
    "for i in trange(len(W0lst)):\n",
    "    W0 = W0lst[i]; #[\\mu m]\n",
    "    a0 = sqrt(E/tau/(2.149e-5))*(lbd/W0); #[]\n",
    "    \n",
    "    # model\n",
    "    alst = np.linspace(amin,a0,300);\n",
    "    dNp = Npinterp1d(alst);\n",
    "    ddNda = dNda(alst,a0,W0);\n",
    "    NpW0_s[i] = np.trapz(ddNda * dNp, alst)\n",
    "    #quad(lambda a: dNda(a,a0,W0) * Np(g0,a,w0,n) ,amin,0.999*a0)[0]\n",
    "    \n",
    "    # sampling\n",
    "    adist = gauss3D(zdist, xdist, ydist, a0, W0, lbd)\n",
    "    adist2 = adist[adist > amin]\n",
    "    dNp = np.array([Npinterp1d(a) for a in adist2 ])\n",
    "    Np_smpl_s[i] = np.sum( dNp ) * Nb/Nsmpl"
   ]
  },
  {
   "cell_type": "markdown",
   "metadata": {},
   "source": [
    "# $W_{0,\\mathrm{opt}}(\\varepsilon)$"
   ]
  },
  {
   "cell_type": "code",
   "execution_count": null,
   "metadata": {},
   "outputs": [],
   "source": [
    "Elst = np.linspace(500,1500,10) #[J]\n",
    "W0opt_th = np.zeros(len(Elst))\n",
    "W0opt_smpl = np.zeros(len(Elst))"
   ]
  },
  {
   "cell_type": "code",
   "execution_count": 32,
   "metadata": {},
   "outputs": [
    {
     "name": "stderr",
     "output_type": "stream",
     "text": [
      "/Library/Frameworks/Python.framework/Versions/3.7/lib/python3.7/site-packages/ipykernel_launcher.py:19: RuntimeWarning: invalid value encountered in sqrt\n"
     ]
    }
   ],
   "source": [
    "for j in trange(len(Elst)):\n",
    "    E = Elst[j]; #[J] energy\n",
    "    a0max = sqrt(E/tau/(2.149e-5))*(lbd/min(W0lst)); #[]\n",
    "    # Interpolate N+\n",
    "    amin = 1\n",
    "    a0int = np.linspace(amin,a0max,200);\n",
    "    Npint = np.array([Np(g0, a, w0, n)[0] for a in a0int])\n",
    "    Npinterp1d = interpolate.interp1d(a0int, Npint)\n",
    "\n",
    "    # analytical distribution\n",
    "    def dNda(a,a0,W0):\n",
    "        \"\"\"theory\"\"\"\n",
    "        zR = pi*W0**2/lbd; #[\\mu m]\n",
    "        az = a0/sqrt(1+(L/4/zR)**2)\n",
    "        return np.piecewise(a, [a > az, a <= az], [lambda a: 4*pi*nb*W0**2*zR/a * 1/3/a * sqrt(a0**2-a**2) * ((a0/a)**2+2),\n",
    "                                                   lambda a: 4*pi*nb*W0**2*zR/a * L/4/zR * (1+(L/4/zR)**2/3) ])\n",
    "\n",
    "    # simulation parameters\n",
    "    Nsmpl = int(1e6); #[] 1e6\n",
    "    zmax = +L/4 ; #[\\mu m]\n",
    "    zmin = zmax-L/2; #[\\mu m]\n",
    "    # coordinate data\n",
    "    zdist = (zmax-zmin)*rng.random(Nsmpl) + zmin; #[\\mu m]\n",
    "    xdist = sigmax*rng.standard_normal(Nsmpl) #[\\mu m]\n",
    "    ydist = sigmay*rng.standard_normal(Nsmpl) #[\\mu m]\n",
    "    NpW0 = np.zeros(len(W0lst));\n",
    "    Np_smpl = np.zeros(len(W0lst));\n",
    "    for i in range(len(W0lst)):\n",
    "        W0 = W0lst[i]; #[\\mu m]\n",
    "        a0 = sqrt(E/tau/(2.149e-5))*(lbd/W0); #[]\n",
    "        \n",
    "        # model\n",
    "        alst = np.linspace(amin,a0,300);\n",
    "        dNp = Npinterp1d(alst);\n",
    "        ddNda = dNda(alst,0.99*a0,W0);\n",
    "        NpW0[i] = np.trapz(ddNda * dNp, alst)\n",
    "\n",
    "        # sampling\n",
    "        adist = gauss3D(zdist, xdist, ydist, a0, W0, lbd)\n",
    "        adist2 = adist[adist > amin]\n",
    "        dNp = np.array([Npinterp1d(a) for a in adist2 ])\n",
    "        Np_smpl[i] = np.sum( dNp ) * Nb/Nsmpl\n",
    "\n",
    "    W0opt_th[j], W0opt_smpl[j] = W0lst[np.argmax(NpW0)], W0lst[np.argmax(Np_smpl)]"
   ]
  },
  {
   "cell_type": "code",
   "execution_count": 45,
   "metadata": {},
   "outputs": [],
   "source": [
    "# save\n",
    "outfile = open(filename,'wb')\n",
    "pickle.dump([W0lst, NpW0_s, Np_smpl_s, Elst, W0opt_th],outfile)\n",
    "outfile.close()"
   ]
  },
  {
   "cell_type": "code",
   "execution_count": null,
   "metadata": {},
   "outputs": [],
   "source": [
    "plt.style.use(\"style.txt\")\n",
    "fig, axes = plt.subplots(nrows=1, ncols=2,figsize=(12,3.2))\n",
    "\n",
    "plt.subplot(121)\n",
    "plt.plot(W0lst,NpW0_s, 'k-', label='Theory');\n",
    "plt.plot(W0lst[::4],Np_smpl_s[::4],'.', label='Sampling');\n",
    "plt.xlabel(r'$W_0[\\mu \\mathrm{m}]$')\n",
    "plt.ylabel(r'$N_+ \\left[ \\frac{n_b}{10^{16}~ \\mathrm{cm}^{-3}} \\right]$',labelpad=15)\n",
    "plt.ylim([0.9e8,1.6e8])\n",
    "plt.xlim([2.8,10.1])\n",
    "plt.legend(frameon=False)\n",
    "plt.tick_params(which='both',axis=\"y\",direction=\"in\", labelleft=True, labelright=False, left=True, right=True)\n",
    "plt.tick_params(which='both',axis=\"x\",direction=\"in\", labeltop=False, labelbottom=True, top=True, bottom=True)\n",
    "f = mticker.ScalarFormatter(useOffset=False, useMathText=True)\n",
    "g = lambda x,pos : \"${}$\".format(f._formatSciNotation('%1.10e' % x))\n",
    "plt.gca().yaxis.set_major_formatter(mticker.FuncFormatter(g))\n",
    "axes[0].set_aspect(aspect=4/3)\n",
    "\n",
    "plt.subplot(122)\n",
    "plt.plot(Elst,W0opt_th, 'k-', label='Theory');\n",
    "plt.plot(Elst,W0opt_smpl,'.', label='Sampling');\n",
    "plt.xlabel(r'$\\varepsilon[\\mathrm{J}]$')\n",
    "plt.ylabel(r'$W_{0,\\mathrm{opt}}[\\mu \\mathrm{m}]$')\n",
    "plt.legend(frameon=False,loc='upper left')\n",
    "plt.ylim([2,8])\n",
    "plt.xlim([460,1540])\n",
    "plt.tick_params(which='both',axis=\"y\",direction=\"in\", labelleft=True, labelright=False, left=True, right=True)\n",
    "plt.tick_params(which='both',axis=\"x\",direction=\"in\", labeltop=False, labelbottom=True, top=True, bottom=True)\n",
    "f = mticker.ScalarFormatter(useOffset=False, useMathText=True)\n",
    "g = lambda x,pos : \"${}$\".format(f._formatSciNotation('%1.10e' % x))\n",
    "plt.gca().yaxis.set_major_formatter(mticker.FuncFormatter(g))\n",
    "axes[1].set_aspect(aspect=4/3)\n",
    "\n",
    "plt.tight_layout()\n",
    "#plt.savefig('opt_ELI.pdf')\n",
    "plt.show()"
   ]
  },
  {
   "cell_type": "code",
   "execution_count": 48,
   "metadata": {},
   "outputs": [
    {
     "data": {
      "image/png": "[encoded data removed]",
      "text/plain": [
       "<Figure size 600x400 with 1 Axes>"
      ]
     },
     "metadata": {
      "needs_background": "light"
     },
     "output_type": "display_data"
    }
   ],
   "source": [
    "plt.style.use(\"style.txt\")\n",
    "fig, axes = plt.subplots(nrows=1, ncols=1, figsize=(6,4))\n",
    "\n",
    "plt.plot(W0lst,NpW0_s, 'k-', label='Theory');\n",
    "plt.plot(W0lst[::4],Np_smpl_s[::4],'.', label='Sampling');\n",
    "plt.xlabel(r'$W_0[\\mu \\mathrm{m}]$')\n",
    "plt.ylabel(r'$N_+ \\left[ \\frac{n_b}{10^{16}~ \\mathrm{cm}^{-3}} \\right]$',labelpad=15)\n",
    "plt.legend(frameon=False)\n",
    "plt.tick_params(which='both',axis=\"y\",direction=\"in\", labelleft=True, labelright=False, left=True, right=True)\n",
    "plt.tick_params(which='both',axis=\"x\",direction=\"in\", labeltop=False, labelbottom=True, top=True, bottom=True)\n",
    "plt.ylim([1e8,1.6e8])\n",
    "plt.xlim([2,10])\n",
    "plt.xticks([2,4,6,8,10])\n",
    "plt.gca().yaxis.set_major_formatter(MathTextSciFormatter(\"%1.1e\"))\n",
    "# aspect\n",
    "xmin, xmax = axes.get_xlim()\n",
    "ymin, ymax = axes.get_ylim()\n",
    "axesratio = (ymax-ymin)/(xmax-xmin)\n",
    "axes.set_aspect(aspect=3/4/axesratio)\n",
    "# final\n",
    "plt.tight_layout()\n",
    "plt.savefig('Optimum_a.pdf')\n",
    "plt.show()"
   ]
  },
  {
   "cell_type": "code",
   "execution_count": 47,
   "metadata": {},
   "outputs": [
    {
     "data": {
      "image/png": "[encoded data removed]",
      "text/plain": [
       "<Figure size 600x400 with 1 Axes>"
      ]
     },
     "metadata": {
      "needs_background": "light"
     },
     "output_type": "display_data"
    }
   ],
   "source": [
    "plt.style.use(\"style.txt\")\n",
    "fig, axes = plt.subplots(nrows=1, ncols=1, figsize=(6,4))\n",
    "\n",
    "plt.plot(Elst,W0opt_th, 'k-', label='Theory');\n",
    "plt.plot(Elst,W0opt_smpl,'.', label='Sampling');\n",
    "plt.xlabel(r'$\\varepsilon[\\mathrm{J}]$')\n",
    "plt.ylabel(r'$W_{0,\\mathrm{opt}}[\\mu \\mathrm{m}]$')\n",
    "plt.legend(frameon=False,loc='upper left')\n",
    "plt.tick_params(which='both',axis=\"y\",direction=\"in\", labelleft=True, labelright=False, left=True, right=True)\n",
    "plt.tick_params(which='both',axis=\"x\",direction=\"in\", labeltop=False, labelbottom=True, top=True, bottom=True)\n",
    "plt.ylim([2,8])\n",
    "plt.xlim([460,1540])\n",
    "plt.xticks([500,750,1000,1250,1500])\n",
    "plt.yticks([2,4,6,8])\n",
    "# aspect\n",
    "xmin, xmax = axes.get_xlim()\n",
    "ymin, ymax = axes.get_ylim()\n",
    "axesratio = (ymax-ymin)/(xmax-xmin)\n",
    "axes.set_aspect(aspect=3/4/axesratio)\n",
    "# final\n",
    "plt.tight_layout()\n",
    "plt.savefig('Optimum_b.pdf')\n",
    "plt.show()"
   ]
  },
  {
   "cell_type": "code",
   "execution_count": null,
   "metadata": {},
   "outputs": [],
   "source": []
  }
 ],
 "metadata": {
  "kernelspec": {
   "display_name": "Python 3",
   "language": "python",
   "name": "python3"
  },
  "language_info": {
   "codemirror_mode": {
    "name": "ipython",
    "version": 3
   },
   "file_extension": ".py",
   "mimetype": "text/x-python",
   "name": "python",
   "nbconvert_exporter": "python",
   "pygments_lexer": "ipython3",
   "version": "3.7.4"
  }
 },
 "nbformat": 4,
 "nbformat_minor": 4
}
