{
 "cells": [
  {
   "cell_type": "markdown",
   "metadata": {},
   "source": [
    "# Thin beam"
   ]
  },
  {
   "cell_type": "code",
   "execution_count": 5,
   "metadata": {},
   "outputs": [],
   "source": [
    "# import API\n",
    "import pwpp\n",
    "from pwpp import *\n",
    "import pickle\n",
    "filename='Thin'"
   ]
  },
  {
   "cell_type": "code",
   "execution_count": 6,
   "metadata": {},
   "outputs": [],
   "source": [
    "# load\n",
    "infile = open(filename,'rb')\n",
    "ath_y,ath_x,adist_y,adist_x,da,az,a0,Deltalst,Np_th,Np_smpl = pickle.load(infile)\n",
    "infile.close()"
   ]
  },
  {
   "cell_type": "code",
   "execution_count": 7,
   "metadata": {},
   "outputs": [],
   "source": [
    "## parameters\n",
    "# laser\n",
    "I21 = 5; #[]\n",
    "lbd = 0.8; #[\\mu m]\n",
    "a0 = 0.855*sqrt(1e3*I21)*lbd; #[]\n",
    "tau = 35; #[fs]\n",
    "w0 = 2*pi*c/(lbd*1e-6)*hbar/e*1e-9; #[GeV]\n",
    "W0 = 3; #[\\mu m]\n",
    "zR = pi*W0**2/lbd; #[\\mu m]\n",
    "n = tau*c/(lbd*1e-6)*1e-15; #[]\n",
    "# beam\n",
    "E0 = 13; #[GeV]\n",
    "g0 = E0/m; #[]\n",
    "Qb = 1 * 1e-12; #[C]\n",
    "Nb = Qb/e; #[]\n",
    "L = 200.0; #[\\mu m]\n",
    "R = 0.5; #[\\mu m]\n",
    "sigmaR = R/sqrt(2); #[\\mu m]\n",
    "# limit\n",
    "az = a0/sqrt(1+(L/4/zR)**2)\n",
    "\n",
    "# Interpolate N+\n",
    "amin = 2\n",
    "a0int = np.linspace(amin,a0,300);\n",
    "Npint = np.array([Np(g0, a, w0, n)[0] for a in a0int])\n",
    "Npinterp1d = interpolate.interp1d(a0int, Npint)\n",
    "\n",
    "def dNda(a,Delta):\n",
    "    \"\"\"theory\"\"\"\n",
    "    zm = -L/4+Delta\n",
    "    zp = +L/4+Delta\n",
    "    azm = a0/sqrt(1+(zm/zR)**2)\n",
    "    azp = a0/sqrt(1+(zp/zR)**2)\n",
    "    return np.sign(-zm)*np.piecewise(a, [a > azm, a <= azm], [lambda a: 2*Nb*zR/L * a0**2/a**2 / sqrt(a0**2-a**2), lambda a: 0]) + \\\n",
    "        np.sign(zp)*np.piecewise(a, [a > azp, a <= azp], [lambda a: 2*Nb*zR/L * a0**2/a**2 / sqrt(a0**2-a**2), lambda a: 0])"
   ]
  },
  {
   "cell_type": "markdown",
   "metadata": {},
   "source": [
    "# Distribution"
   ]
  },
  {
   "cell_type": "code",
   "execution_count": 8,
   "metadata": {},
   "outputs": [],
   "source": [
    "# simulation parameters\n",
    "Nsmpl = int(1e6);\n",
    "\n",
    "# distribution\n",
    "Delta = 0; #[\\mu m]\n",
    "zdist = L/2*rng.random(Nsmpl)-L/4 + Delta; #[\\mu m]\n",
    "\n",
    "# calculate a\n",
    "adim = 100; #[]\n",
    "nbins = 50;\n",
    "alst = np.linspace(0.001*a0,0.999*a0,adim); #[]\n",
    "abins = np.linspace(0.001*a0,0.999*a0,nbins); #[]\n",
    "da = abins[1]-abins[0]; #[]\n",
    "adist = gauss3D(zdist,0,0,a0,W0,lbd); #[]\n",
    "# histogram\n",
    "adist_y,adist_x = np.histogram(adist,abins) #[]\n",
    "# normalize to Nb\n",
    "adist_y, adist_x = adist_y*Nb/Nsmpl, arraycenter(adist_x)\n",
    "# analytical distribution\n",
    "ath_y,ath_x = dNda(alst,Delta), alst"
   ]
  },
  {
   "cell_type": "markdown",
   "metadata": {},
   "source": [
    "# Displacement"
   ]
  },
  {
   "cell_type": "code",
   "execution_count": 17,
   "metadata": {},
   "outputs": [],
   "source": [
    "Deltalst = np.linspace(0,L/2,13);\n",
    "Np_th = np.zeros(len(Deltalst));\n",
    "\n",
    "for i in trange(len(Deltalst)):\n",
    "    Delta = Deltalst[i];\n",
    "\n",
    "    # analytical (Delta>0)\n",
    "    zm = -L/4+Delta\n",
    "    zp = +L/4+Delta\n",
    "    azm = a0/sqrt(1+(zm/zR)**2)\n",
    "    azp = a0/sqrt(1+(zp/zR)**2)\n",
    "    Np_th[i] = quad(lambda a: dNda(a,Delta) * Np(g0,a,w0,n), azp, 0.9999*a0)[0]"
   ]
  },
  {
   "cell_type": "code",
   "execution_count": 13,
   "metadata": {},
   "outputs": [],
   "source": [
    "Nsmpl = int(1e5);\n",
    "Deltalst = np.linspace(0,L/2,13);\n",
    "Np_smpl = np.zeros(len(Deltalst));\n",
    "\n",
    "for i in trange(len(Deltalst)):\n",
    "    Delta = Deltalst[i];\n",
    "    \n",
    "    # sampling\n",
    "    zdist = L/2*rng.random(Nsmpl)-L/4 + Delta; #[\\mu m]\n",
    "    adist = gauss3D(zdist,0,0,a0,W0,lbd); #[]\n",
    "    adist2 = adist[adist > amin]\n",
    "    dNp = np.array([Npinterp1d(a) for a in adist2 ])\n",
    "    Np_smpl[i] = np.sum( dNp ) * Nb/Nsmpl"
   ]
  },
  {
   "cell_type": "code",
   "execution_count": 22,
   "metadata": {},
   "outputs": [],
   "source": [
    "# save\n",
    "outfile = open(filename,'wb')\n",
    "pickle.dump([ath_y,ath_x,adist_y,adist_x,da,az,a0,Deltalst,Np_th,Np_smpl],outfile)\n",
    "outfile.close()"
   ]
  },
  {
   "cell_type": "code",
   "execution_count": null,
   "metadata": {},
   "outputs": [],
   "source": [
    "plt.style.use(\"style.txt\")\n",
    "fig, axes = plt.subplots(nrows=1, ncols=2, figsize=(12,3.3))\n",
    "\n",
    "plt.subplot(121)\n",
    "plt.style.use(\"style.txt\")\n",
    "plt.plot(ath_x, ath_y*da,'k--',label=r'Theory')\n",
    "plt.plot(adist_x, adist_y,'.',label=r'Sampling')\n",
    "plt.xlim([0.9*az,a0])\n",
    "plt.ylim([0,max(adist_y)])\n",
    "plt.yticks([0,2e5,4e5,6e5])\n",
    "plt.xlabel(r'$a_{0,\\mathrm{eff}}$')\n",
    "plt.ylabel(r'$\\frac{dN_b}{da_{0,\\mathrm{eff}}} \\left[ \\frac{Q_b}{1\\mathrm{pC}} \\right]$',labelpad=15)\n",
    "plt.legend(frameon=False,loc='upper left')\n",
    "f = mticker.ScalarFormatter(useOffset=False, useMathText=True)\n",
    "g = lambda x,pos : \"${}$\".format(f._formatSciNotation('%1.10e' % x))\n",
    "plt.gca().yaxis.set_major_formatter(mticker.FuncFormatter(g))\n",
    "axes[0].set_aspect(aspect=4/3)\n",
    "\n",
    "plt.subplot(122)\n",
    "plt.plot(Deltalst, Np_th,'k--',label=r'Theory')\n",
    "plt.plot(Deltalst, Np_smpl,'.',label=r'Sampling')\n",
    "plt.xlabel(r'$\\Delta_\\parallel[\\mu \\textrm{m}]$')\n",
    "plt.ylabel(r'$N_+ \\left[ \\frac{Q_b}{1\\mathrm{pC}} \\right]$',labelpad=15)\n",
    "plt.xlim([-2,102])\n",
    "plt.ylim(0,6.5e6)\n",
    "plt.yticks([0,2e6,4e6,6e6])\n",
    "plt.legend(frameon=False)\n",
    "#plt.title('Distribution')\n",
    "plt.tick_params(which='both',axis=\"y\",direction=\"in\", labelleft=True, labelright=False, left=True, right=True)\n",
    "plt.tick_params(which='both',axis=\"x\",direction=\"in\", labeltop=False, labelbottom=True, top=True, bottom=True)\n",
    "f = mticker.ScalarFormatter(useOffset=False, useMathText=True)\n",
    "g = lambda x,pos : \"${}$\".format(f._formatSciNotation('%1.10e' % x))\n",
    "plt.gca().yaxis.set_major_formatter(mticker.FuncFormatter(g))\n",
    "axes[1].set_aspect(aspect=4/3)\n",
    "plt.tight_layout()\n",
    "#plt.savefig('3DL.pdf')\n",
    "plt.show()"
   ]
  },
  {
   "cell_type": "code",
   "execution_count": 26,
   "metadata": {},
   "outputs": [
    {
     "data": {
      "image/png": "[encoded data removed]",
      "text/plain": [
       "<Figure size 600x400 with 1 Axes>"
      ]
     },
     "metadata": {
      "needs_background": "light"
     },
     "output_type": "display_data"
    }
   ],
   "source": [
    "plt.style.use(\"style.txt\")\n",
    "fig, axes = plt.subplots(nrows=1, ncols=1, figsize=(6,4))\n",
    "\n",
    "plt.plot(ath_x, ath_y*da,'k--',label=r'Theory')\n",
    "plt.plot(adist_x, adist_y,'.',label=r'Sampling')\n",
    "plt.xlabel(r'$a_{0,\\mathrm{eff}}$')\n",
    "plt.ylabel(r'$\\frac{dN_b}{da_{0,\\mathrm{eff}}} \\left[ \\frac{Q_b}{1\\mathrm{pC}} \\right]$',labelpad=15)\n",
    "plt.legend(frameon=False,loc='upper left')\n",
    "plt.tick_params(which='both',axis=\"y\",direction=\"in\", labelleft=True, labelright=False, left=True, right=True)\n",
    "plt.tick_params(which='both',axis=\"x\",direction=\"in\", labeltop=False, labelbottom=True, top=True, bottom=True)\n",
    "plt.xlim([0.9*az,a0])\n",
    "plt.ylim([0,6e5])\n",
    "plt.xticks([20,30,40,50])\n",
    "plt.yticks([0,2e5,4e5,6e5])\n",
    "plt.gca().yaxis.set_major_formatter(MathTextSciFormatter(\"%1.0e\"))\n",
    "# aspect\n",
    "xmin, xmax = axes.get_xlim()\n",
    "ymin, ymax = axes.get_ylim()\n",
    "axesratio = (ymax-ymin)/(xmax-xmin)\n",
    "axes.set_aspect(aspect=3/4/axesratio)\n",
    "# final\n",
    "plt.tight_layout()\n",
    "plt.savefig('3DL_a.pdf')\n",
    "plt.show()"
   ]
  },
  {
   "cell_type": "code",
   "execution_count": 24,
   "metadata": {},
   "outputs": [
    {
     "data": {
      "image/png": "[encoded data removed]",
      "text/plain": [
       "<Figure size 600x400 with 1 Axes>"
      ]
     },
     "metadata": {
      "needs_background": "light"
     },
     "output_type": "display_data"
    }
   ],
   "source": [
    "plt.style.use(\"style.txt\")\n",
    "fig, axes = plt.subplots(nrows=1, ncols=1, figsize=(6,4))\n",
    "\n",
    "plt.plot(Deltalst, Np_th,'k--',label=r'Theory')\n",
    "plt.plot(Deltalst, Np_smpl,'.',label=r'Sampling')\n",
    "plt.xlabel(r'$\\Delta_\\parallel[\\mu \\textrm{m}]$')\n",
    "plt.ylabel(r'$N_+ \\left[ \\frac{Q_b}{1\\mathrm{pC}} \\right]$',labelpad=15)\n",
    "plt.legend(frameon=False)\n",
    "plt.tick_params(which='both',axis=\"y\",direction=\"in\", labelleft=True, labelright=False, left=True, right=True)\n",
    "plt.tick_params(which='both',axis=\"x\",direction=\"in\", labeltop=False, labelbottom=True, top=True, bottom=True)\n",
    "plt.xlim([-2,102])\n",
    "plt.ylim(0,6e6)\n",
    "plt.xticks([0,20,40,60,80,100])\n",
    "plt.yticks([0,2e6,4e6,6e6])\n",
    "plt.gca().yaxis.set_major_formatter(MathTextSciFormatter(\"%1.0e\"))\n",
    "# aspect\n",
    "xmin, xmax = axes.get_xlim()\n",
    "ymin, ymax = axes.get_ylim()\n",
    "axesratio = (ymax-ymin)/(xmax-xmin)\n",
    "axes.set_aspect(aspect=3/4/axesratio)\n",
    "# final\n",
    "plt.tight_layout()\n",
    "plt.savefig('3DL_b.pdf')\n",
    "plt.show()"
   ]
  },
  {
   "cell_type": "code",
   "execution_count": null,
   "metadata": {},
   "outputs": [],
   "source": []
  }
 ],
 "metadata": {
  "kernelspec": {
   "display_name": "Python 3",
   "language": "python",
   "name": "python3"
  },
  "language_info": {
   "codemirror_mode": {
    "name": "ipython",
    "version": 3
   },
   "file_extension": ".py",
   "mimetype": "text/x-python",
   "name": "python",
   "nbconvert_exporter": "python",
   "pygments_lexer": "ipython3",
   "version": "3.7.4"
  }
 },
 "nbformat": 4,
 "nbformat_minor": 4
}
